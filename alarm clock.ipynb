{
 "cells": [
  {
   "cell_type": "code",
   "execution_count": 2,
   "id": "f6992ed8",
   "metadata": {},
   "outputs": [],
   "source": [
    "from tkinter import *\n",
    "from tkinter import ttk\n",
    "import datetime\n",
    "import time"
   ]
  },
  {
   "cell_type": "code",
   "execution_count": null,
   "id": "1a59e957",
   "metadata": {},
   "outputs": [],
   "source": [
    "class AlarmClock:\n",
    "    def __init__(self, root):\n",
    "        self.root = root\n",
    "        self.root.title(\"Alarm Clock\")\n",
    "        self.root.geometry(\"400x200\")\n",
    "        self.root.resizable(False, False)\n",
    "\n",
    "        self.time_var = StringVar()\n",
    "        self.set_alarm_var = StringVar()\n",
    "\n",
    "        self.create_widgets()\n",
    "\n",
    "    def create_widgets(self):\n",
    "        Label(self.root, text=\"Current Time\", font=(\"Helvetica\", 16)).pack(pady=10)\n",
    "        Label(self.root, textvariable=self.time_var, font=(\"Helvetica\", 24)).pack()\n",
    "\n",
    "        Label(self.root, text=\"Set Alarm (HH:MM)\", font=(\"Helvetica\", 14)).pack()\n",
    "        Entry(self.root, textvariable=self.set_alarm_var, font=(\"Helvetica\", 14)).pack()\n",
    "\n",
    "        Button(self.root, text=\"Set Alarm\", command=self.set_alarm, font=(\"Helvetica\", 14)).pack(pady=10)\n",
    "\n",
    "    def set_alarm(self):\n",
    "        alarm_time_str = self.set_alarm_var.get()\n",
    "        try:\n",
    "            alarm_time = datetime.datetime.strptime(alarm_time_str, \"%H:%M\")\n",
    "            while True:\n",
    "                current_time = datetime.datetime.now().strftime(\"%H:%M\")\n",
    "                self.time_var.set(current_time)\n",
    "\n",
    "                if current_time == alarm_time_str:\n",
    "                    self.play_alarm_sound()\n",
    "                    break\n",
    "\n",
    "                self.root.update()\n",
    "                time.sleep(1)\n",
    "\n",
    "        except ValueError:\n",
    "            print(\"Invalid time format. Use HH:MM\")\n",
    "\n",
    "    def play_alarm_sound(self):\n",
    "        # Implement your code to play alarm sound here\n",
    "        print(\"Alarm! Time to wake up!\")\n",
    "\n",
    "# Create the main window\n",
    "root = Tk()\n",
    "alarm_clock = AlarmClock(root)\n",
    "\n",
    "# Run the application\n",
    "root.mainloop()"
   ]
  },
  {
   "cell_type": "code",
   "execution_count": null,
   "id": "f2efadb1",
   "metadata": {},
   "outputs": [],
   "source": []
  }
 ],
 "metadata": {
  "kernelspec": {
   "display_name": "Python 3 (ipykernel)",
   "language": "python",
   "name": "python3"
  },
  "language_info": {
   "codemirror_mode": {
    "name": "ipython",
    "version": 3
   },
   "file_extension": ".py",
   "mimetype": "text/x-python",
   "name": "python",
   "nbconvert_exporter": "python",
   "pygments_lexer": "ipython3",
   "version": "3.11.5"
  }
 },
 "nbformat": 4,
 "nbformat_minor": 5
}
